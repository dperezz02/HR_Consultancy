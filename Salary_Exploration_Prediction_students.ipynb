{
 "cells": [
  {
   "cell_type": "markdown",
   "metadata": {},
   "source": [
    "# Lab 10: Visual Analytics Data application using Streamlit and Machine Learning (Evaluable)\n",
    "\n",
    "# Lab goals:\n",
    "In this project, we will build a Visual Analytics app that combines Streamlit and Machine Learning. In particular, our Data web app will explore and predict the salary of the software developers depending on the country, experience and level of education. \n",
    "\n",
    "As we have done during the course, we will follow the end-to-end **Machine Learning process**:\n",
    "1. Data understanding and preparation: exploration of the dataset and feature engineering (missing values, outlier identification, categorical variables management)\n",
    "2. Model Training: training a regression model. Analysis of metrics (i.e. R2_score, mean squared error,...)\n",
    "3. Creating a Visual Analytics web app based on Streamlit to facilitate the exploration of data and prediction of the salary.\n",
    "\n",
    "# Practice Information:\n",
    "**Due date:** By end of November, 15th (23:55h)\n",
    "\n",
    "**Submission procedure:** via Moodle.\n",
    "\n",
    "**Name:** David Pérez Carrasco\n",
    "\n",
    "**NIA:** 241375\n"
   ]
  },
  {
   "cell_type": "markdown",
   "metadata": {},
   "source": [
    "# 0. Context:  \n",
    "\n",
    "We work in a Human Resources Consultant company supporting to the business consultant team. A common request from our customers from the IT sector is a salary recommendation to be applied to their software development employees. \n",
    "Therefore, we have been requested to build a Web app with two minimum goals:\n",
    "- 1 Exploration of salaries per country and experience\n",
    "- 2 Prediction of a salary based on country, experience and education\n",
    "\n",
    "We have access to an annual survey by Stack Overflow where we can find more than 67K software developers' answers. Part of the survey includes salary, experience, country, full/partial time employee, language, demographic information and so on.\n",
    "\n",
    "Taking into consideration the request and this amazing survey you should develop your **own Visual Analytics Data Web** with two main parts:\n",
    "- a) This Jupyter Notebook to explore the data (i.e. EDA), prepare the data and build a Machine Learning model that predicts the salary of a software employee at least based on **Country**, **Education** and **Experience** variables  \n",
    "- b) A Streamlit app to explore the data and execute the salary prediction"
   ]
  },
  {
   "cell_type": "markdown",
   "id": "ed5f3bb1",
   "metadata": {},
   "source": [
    "# 1. Data Gathering\n",
    "In the survey_results_schema.csv and the survey_results_public.csv you will obtain the schema of the survey and the responses."
   ]
  },
  {
   "cell_type": "markdown",
   "metadata": {},
   "source": [
    "Let's import some basic libraries and upload the **survey_results_public.csv** file."
   ]
  },
  {
   "cell_type": "code",
   "execution_count": 2,
   "id": "80a1fb6b",
   "metadata": {},
   "outputs": [],
   "source": [
    "import pandas as pd\n",
    "import matplotlib.pyplot as plt\n",
    "\n",
    "df = pd.read_csv(\"survey_results_public.csv\")"
   ]
  },
  {
   "cell_type": "markdown",
   "metadata": {},
   "source": [
    "Let's explore the data:"
   ]
  },
  {
   "cell_type": "code",
   "execution_count": 3,
   "id": "3215c779",
   "metadata": {},
   "outputs": [
    {
     "data": {
      "text/html": [
       "<div>\n",
       "<style scoped>\n",
       "    .dataframe tbody tr th:only-of-type {\n",
       "        vertical-align: middle;\n",
       "    }\n",
       "\n",
       "    .dataframe tbody tr th {\n",
       "        vertical-align: top;\n",
       "    }\n",
       "\n",
       "    .dataframe thead th {\n",
       "        text-align: right;\n",
       "    }\n",
       "</style>\n",
       "<table border=\"1\" class=\"dataframe\">\n",
       "  <thead>\n",
       "    <tr style=\"text-align: right;\">\n",
       "      <th></th>\n",
       "      <th>ResponseId</th>\n",
       "      <th>MainBranch</th>\n",
       "      <th>Employment</th>\n",
       "      <th>RemoteWork</th>\n",
       "      <th>CodingActivities</th>\n",
       "      <th>EdLevel</th>\n",
       "      <th>LearnCode</th>\n",
       "      <th>LearnCodeOnline</th>\n",
       "      <th>LearnCodeCoursesCert</th>\n",
       "      <th>YearsCode</th>\n",
       "      <th>...</th>\n",
       "      <th>TimeSearching</th>\n",
       "      <th>TimeAnswering</th>\n",
       "      <th>Onboarding</th>\n",
       "      <th>ProfessionalTech</th>\n",
       "      <th>TrueFalse_1</th>\n",
       "      <th>TrueFalse_2</th>\n",
       "      <th>TrueFalse_3</th>\n",
       "      <th>SurveyLength</th>\n",
       "      <th>SurveyEase</th>\n",
       "      <th>ConvertedCompYearly</th>\n",
       "    </tr>\n",
       "  </thead>\n",
       "  <tbody>\n",
       "    <tr>\n",
       "      <th>0</th>\n",
       "      <td>1</td>\n",
       "      <td>None of these</td>\n",
       "      <td>NaN</td>\n",
       "      <td>NaN</td>\n",
       "      <td>NaN</td>\n",
       "      <td>NaN</td>\n",
       "      <td>NaN</td>\n",
       "      <td>NaN</td>\n",
       "      <td>NaN</td>\n",
       "      <td>NaN</td>\n",
       "      <td>...</td>\n",
       "      <td>NaN</td>\n",
       "      <td>NaN</td>\n",
       "      <td>NaN</td>\n",
       "      <td>NaN</td>\n",
       "      <td>NaN</td>\n",
       "      <td>NaN</td>\n",
       "      <td>NaN</td>\n",
       "      <td>NaN</td>\n",
       "      <td>NaN</td>\n",
       "      <td>NaN</td>\n",
       "    </tr>\n",
       "    <tr>\n",
       "      <th>1</th>\n",
       "      <td>2</td>\n",
       "      <td>I am a developer by profession</td>\n",
       "      <td>Employed, full-time</td>\n",
       "      <td>Fully remote</td>\n",
       "      <td>Hobby;Contribute to open-source projects</td>\n",
       "      <td>NaN</td>\n",
       "      <td>NaN</td>\n",
       "      <td>NaN</td>\n",
       "      <td>NaN</td>\n",
       "      <td>NaN</td>\n",
       "      <td>...</td>\n",
       "      <td>NaN</td>\n",
       "      <td>NaN</td>\n",
       "      <td>NaN</td>\n",
       "      <td>NaN</td>\n",
       "      <td>NaN</td>\n",
       "      <td>NaN</td>\n",
       "      <td>NaN</td>\n",
       "      <td>Too long</td>\n",
       "      <td>Difficult</td>\n",
       "      <td>NaN</td>\n",
       "    </tr>\n",
       "    <tr>\n",
       "      <th>2</th>\n",
       "      <td>3</td>\n",
       "      <td>I am not primarily a developer, but I write co...</td>\n",
       "      <td>Employed, full-time</td>\n",
       "      <td>Hybrid (some remote, some in-person)</td>\n",
       "      <td>Hobby</td>\n",
       "      <td>Master’s degree (M.A., M.S., M.Eng., MBA, etc.)</td>\n",
       "      <td>Books / Physical media;Friend or family member...</td>\n",
       "      <td>Technical documentation;Blogs;Programming Game...</td>\n",
       "      <td>NaN</td>\n",
       "      <td>14</td>\n",
       "      <td>...</td>\n",
       "      <td>NaN</td>\n",
       "      <td>NaN</td>\n",
       "      <td>NaN</td>\n",
       "      <td>NaN</td>\n",
       "      <td>NaN</td>\n",
       "      <td>NaN</td>\n",
       "      <td>NaN</td>\n",
       "      <td>Appropriate in length</td>\n",
       "      <td>Neither easy nor difficult</td>\n",
       "      <td>40205.0</td>\n",
       "    </tr>\n",
       "    <tr>\n",
       "      <th>3</th>\n",
       "      <td>4</td>\n",
       "      <td>I am a developer by profession</td>\n",
       "      <td>Employed, full-time</td>\n",
       "      <td>Fully remote</td>\n",
       "      <td>I don’t code outside of work</td>\n",
       "      <td>Bachelor’s degree (B.A., B.S., B.Eng., etc.)</td>\n",
       "      <td>Books / Physical media;School (i.e., Universit...</td>\n",
       "      <td>NaN</td>\n",
       "      <td>NaN</td>\n",
       "      <td>20</td>\n",
       "      <td>...</td>\n",
       "      <td>NaN</td>\n",
       "      <td>NaN</td>\n",
       "      <td>NaN</td>\n",
       "      <td>NaN</td>\n",
       "      <td>NaN</td>\n",
       "      <td>NaN</td>\n",
       "      <td>NaN</td>\n",
       "      <td>Appropriate in length</td>\n",
       "      <td>Easy</td>\n",
       "      <td>215232.0</td>\n",
       "    </tr>\n",
       "    <tr>\n",
       "      <th>4</th>\n",
       "      <td>5</td>\n",
       "      <td>I am a developer by profession</td>\n",
       "      <td>Employed, full-time</td>\n",
       "      <td>Hybrid (some remote, some in-person)</td>\n",
       "      <td>Hobby</td>\n",
       "      <td>Bachelor’s degree (B.A., B.S., B.Eng., etc.)</td>\n",
       "      <td>Other online resources (e.g., videos, blogs, f...</td>\n",
       "      <td>Technical documentation;Blogs;Stack Overflow;O...</td>\n",
       "      <td>NaN</td>\n",
       "      <td>8</td>\n",
       "      <td>...</td>\n",
       "      <td>NaN</td>\n",
       "      <td>NaN</td>\n",
       "      <td>NaN</td>\n",
       "      <td>NaN</td>\n",
       "      <td>NaN</td>\n",
       "      <td>NaN</td>\n",
       "      <td>NaN</td>\n",
       "      <td>Too long</td>\n",
       "      <td>Easy</td>\n",
       "      <td>NaN</td>\n",
       "    </tr>\n",
       "  </tbody>\n",
       "</table>\n",
       "<p>5 rows × 79 columns</p>\n",
       "</div>"
      ],
      "text/plain": [
       "   ResponseId                                         MainBranch  \\\n",
       "0           1                                      None of these   \n",
       "1           2                     I am a developer by profession   \n",
       "2           3  I am not primarily a developer, but I write co...   \n",
       "3           4                     I am a developer by profession   \n",
       "4           5                     I am a developer by profession   \n",
       "\n",
       "            Employment                            RemoteWork  \\\n",
       "0                  NaN                                   NaN   \n",
       "1  Employed, full-time                          Fully remote   \n",
       "2  Employed, full-time  Hybrid (some remote, some in-person)   \n",
       "3  Employed, full-time                          Fully remote   \n",
       "4  Employed, full-time  Hybrid (some remote, some in-person)   \n",
       "\n",
       "                           CodingActivities  \\\n",
       "0                                       NaN   \n",
       "1  Hobby;Contribute to open-source projects   \n",
       "2                                     Hobby   \n",
       "3              I don’t code outside of work   \n",
       "4                                     Hobby   \n",
       "\n",
       "                                           EdLevel  \\\n",
       "0                                              NaN   \n",
       "1                                              NaN   \n",
       "2  Master’s degree (M.A., M.S., M.Eng., MBA, etc.)   \n",
       "3     Bachelor’s degree (B.A., B.S., B.Eng., etc.)   \n",
       "4     Bachelor’s degree (B.A., B.S., B.Eng., etc.)   \n",
       "\n",
       "                                           LearnCode  \\\n",
       "0                                                NaN   \n",
       "1                                                NaN   \n",
       "2  Books / Physical media;Friend or family member...   \n",
       "3  Books / Physical media;School (i.e., Universit...   \n",
       "4  Other online resources (e.g., videos, blogs, f...   \n",
       "\n",
       "                                     LearnCodeOnline LearnCodeCoursesCert  \\\n",
       "0                                                NaN                  NaN   \n",
       "1                                                NaN                  NaN   \n",
       "2  Technical documentation;Blogs;Programming Game...                  NaN   \n",
       "3                                                NaN                  NaN   \n",
       "4  Technical documentation;Blogs;Stack Overflow;O...                  NaN   \n",
       "\n",
       "  YearsCode  ... TimeSearching TimeAnswering Onboarding ProfessionalTech  \\\n",
       "0       NaN  ...           NaN           NaN        NaN              NaN   \n",
       "1       NaN  ...           NaN           NaN        NaN              NaN   \n",
       "2        14  ...           NaN           NaN        NaN              NaN   \n",
       "3        20  ...           NaN           NaN        NaN              NaN   \n",
       "4         8  ...           NaN           NaN        NaN              NaN   \n",
       "\n",
       "  TrueFalse_1 TrueFalse_2 TrueFalse_3           SurveyLength  \\\n",
       "0         NaN         NaN         NaN                    NaN   \n",
       "1         NaN         NaN         NaN               Too long   \n",
       "2         NaN         NaN         NaN  Appropriate in length   \n",
       "3         NaN         NaN         NaN  Appropriate in length   \n",
       "4         NaN         NaN         NaN               Too long   \n",
       "\n",
       "                   SurveyEase ConvertedCompYearly  \n",
       "0                         NaN                 NaN  \n",
       "1                   Difficult                 NaN  \n",
       "2  Neither easy nor difficult             40205.0  \n",
       "3                        Easy            215232.0  \n",
       "4                        Easy                 NaN  \n",
       "\n",
       "[5 rows x 79 columns]"
      ]
     },
     "execution_count": 3,
     "metadata": {},
     "output_type": "execute_result"
    }
   ],
   "source": [
    "\n",
    "df.head()"
   ]
  },
  {
   "cell_type": "code",
   "execution_count": 4,
   "id": "5c6d2d14",
   "metadata": {},
   "outputs": [
    {
     "name": "stdout",
     "output_type": "stream",
     "text": [
      "<class 'pandas.core.frame.DataFrame'>\n",
      "RangeIndex: 73268 entries, 0 to 73267\n",
      "Data columns (total 79 columns):\n",
      " #   Column                          Non-Null Count  Dtype  \n",
      "---  ------                          --------------  -----  \n",
      " 0   ResponseId                      73268 non-null  int64  \n",
      " 1   MainBranch                      73268 non-null  object \n",
      " 2   Employment                      71709 non-null  object \n",
      " 3   RemoteWork                      58958 non-null  object \n",
      " 4   CodingActivities                58899 non-null  object \n",
      " 5   EdLevel                         71571 non-null  object \n",
      " 6   LearnCode                       71580 non-null  object \n",
      " 7   LearnCodeOnline                 50685 non-null  object \n",
      " 8   LearnCodeCoursesCert            29389 non-null  object \n",
      " 9   YearsCode                       71331 non-null  object \n",
      " 10  YearsCodePro                    51833 non-null  object \n",
      " 11  DevType                         61302 non-null  object \n",
      " 12  OrgSize                         51039 non-null  object \n",
      " 13  PurchaseInfluence               50969 non-null  object \n",
      " 14  BuyNewTool                      67963 non-null  object \n",
      " 15  Country                         71771 non-null  object \n",
      " 16  Currency                        51264 non-null  object \n",
      " 17  CompTotal                       38422 non-null  float64\n",
      " 18  CompFreq                        44425 non-null  object \n",
      " 19  LanguageHaveWorkedWith          70975 non-null  object \n",
      " 20  LanguageWantToWorkWith          67027 non-null  object \n",
      " 21  DatabaseHaveWorkedWith          60121 non-null  object \n",
      " 22  DatabaseWantToWorkWith          51014 non-null  object \n",
      " 23  PlatformHaveWorkedWith          49924 non-null  object \n",
      " 24  PlatformWantToWorkWith          40415 non-null  object \n",
      " 25  WebframeHaveWorkedWith          53544 non-null  object \n",
      " 26  WebframeWantToWorkWith          46122 non-null  object \n",
      " 27  MiscTechHaveWorkedWith          44992 non-null  object \n",
      " 28  MiscTechWantToWorkWith          36810 non-null  object \n",
      " 29  ToolsTechHaveWorkedWith         54171 non-null  object \n",
      " 30  ToolsTechWantToWorkWith         46566 non-null  object \n",
      " 31  NEWCollabToolsHaveWorkedWith    70347 non-null  object \n",
      " 32  NEWCollabToolsWantToWorkWith    64108 non-null  object \n",
      " 33  OpSysProfessional use           65503 non-null  object \n",
      " 34  OpSysPersonal use               70963 non-null  object \n",
      " 35  VersionControlSystem            71379 non-null  object \n",
      " 36  VCInteraction                   68156 non-null  object \n",
      " 37  VCHostingPersonal use           0 non-null      float64\n",
      " 38  VCHostingProfessional use       0 non-null      float64\n",
      " 39  OfficeStackAsyncHaveWorkedWith  46223 non-null  object \n",
      " 40  OfficeStackAsyncWantToWorkWith  32072 non-null  object \n",
      " 41  OfficeStackSyncHaveWorkedWith   62128 non-null  object \n",
      " 42  OfficeStackSyncWantToWorkWith   47688 non-null  object \n",
      " 43  Blockchain                      71071 non-null  object \n",
      " 44  NEWSOSites                      71365 non-null  object \n",
      " 45  SOVisitFreq                     70961 non-null  object \n",
      " 46  SOAccount                       71572 non-null  object \n",
      " 47  SOPartFreq                      58229 non-null  object \n",
      " 48  SOComm                          71408 non-null  object \n",
      " 49  Age                             70946 non-null  object \n",
      " 50  Gender                          70853 non-null  object \n",
      " 51  Trans                           70315 non-null  object \n",
      " 52  Sexuality                       66565 non-null  object \n",
      " 53  Ethnicity                       69474 non-null  object \n",
      " 54  Accessibility                   67244 non-null  object \n",
      " 55  MentalHealth                    66447 non-null  object \n",
      " 56  TBranch                         52670 non-null  object \n",
      " 57  ICorPM                          36283 non-null  object \n",
      " 58  WorkExp                         36769 non-null  float64\n",
      " 59  Knowledge_1                     35804 non-null  object \n",
      " 60  Knowledge_2                     34973 non-null  object \n",
      " 61  Knowledge_3                     35133 non-null  object \n",
      " 62  Knowledge_4                     35097 non-null  object \n",
      " 63  Knowledge_5                     35014 non-null  object \n",
      " 64  Knowledge_6                     34991 non-null  object \n",
      " 65  Knowledge_7                     34977 non-null  object \n",
      " 66  Frequency_1                     35371 non-null  object \n",
      " 67  Frequency_2                     35344 non-null  object \n",
      " 68  Frequency_3                     34515 non-null  object \n",
      " 69  TimeSearching                   36198 non-null  object \n",
      " 70  TimeAnswering                   36022 non-null  object \n",
      " 71  Onboarding                      35679 non-null  object \n",
      " 72  ProfessionalTech                34906 non-null  object \n",
      " 73  TrueFalse_1                     35819 non-null  object \n",
      " 74  TrueFalse_2                     35715 non-null  object \n",
      " 75  TrueFalse_3                     35749 non-null  object \n",
      " 76  SurveyLength                    70444 non-null  object \n",
      " 77  SurveyEase                      70508 non-null  object \n",
      " 78  ConvertedCompYearly             38071 non-null  float64\n",
      "dtypes: float64(5), int64(1), object(73)\n",
      "memory usage: 44.2+ MB\n"
     ]
    }
   ],
   "source": [
    "\n",
    "df.info()"
   ]
  },
  {
   "cell_type": "markdown",
   "metadata": {},
   "source": [
    "# 2. Data Exploration and Data Wrangling "
   ]
  },
  {
   "cell_type": "markdown",
   "metadata": {},
   "source": [
    "**EX1** Let's select the variables we are interested in: `Country`, `Education`, `YearsCodePro`, `Employment` and `ConvertedCompYearly`. Rename `ConvertedCompYearly` to `Salary`."
   ]
  },
  {
   "cell_type": "code",
   "execution_count": 5,
   "metadata": {},
   "outputs": [],
   "source": [
    "selected_columns = ['Country', 'EdLevel', 'YearsCodePro', 'Employment', 'ConvertedCompYearly']\n",
    "df = df[selected_columns].copy()\n",
    "df.rename(columns={'ConvertedCompYearly': 'Salary'}, inplace=True)"
   ]
  },
  {
   "cell_type": "markdown",
   "metadata": {},
   "source": [
    "Let's see the data again"
   ]
  },
  {
   "cell_type": "code",
   "execution_count": 6,
   "id": "b4628f09",
   "metadata": {},
   "outputs": [
    {
     "name": "stdout",
     "output_type": "stream",
     "text": [
      "<class 'pandas.core.frame.DataFrame'>\n",
      "RangeIndex: 73268 entries, 0 to 73267\n",
      "Data columns (total 5 columns):\n",
      " #   Column        Non-Null Count  Dtype  \n",
      "---  ------        --------------  -----  \n",
      " 0   Country       71771 non-null  object \n",
      " 1   EdLevel       71571 non-null  object \n",
      " 2   YearsCodePro  51833 non-null  object \n",
      " 3   Employment    71709 non-null  object \n",
      " 4   Salary        38071 non-null  float64\n",
      "dtypes: float64(1), object(4)\n",
      "memory usage: 2.8+ MB\n"
     ]
    }
   ],
   "source": [
    "df.info()"
   ]
  },
  {
   "cell_type": "markdown",
   "metadata": {},
   "source": [
    "**EX2** Remove the registers with any null in the features and verify all registers are not null"
   ]
  },
  {
   "cell_type": "code",
   "execution_count": 7,
   "metadata": {},
   "outputs": [
    {
     "name": "stdout",
     "output_type": "stream",
     "text": [
      "No null values in the DataFrame.\n"
     ]
    }
   ],
   "source": [
    "df = df.dropna()\n",
    "\n",
    "# Verify if there are any null values left\n",
    "if df.isnull().any().any():\n",
    "    print(\"There are still null values in the DataFrame.\")\n",
    "else:\n",
    "    print(\"No null values in the DataFrame.\")"
   ]
  },
  {
   "cell_type": "code",
   "execution_count": 8,
   "id": "745502b0",
   "metadata": {},
   "outputs": [
    {
     "data": {
      "text/html": [
       "<div>\n",
       "<style scoped>\n",
       "    .dataframe tbody tr th:only-of-type {\n",
       "        vertical-align: middle;\n",
       "    }\n",
       "\n",
       "    .dataframe tbody tr th {\n",
       "        vertical-align: top;\n",
       "    }\n",
       "\n",
       "    .dataframe thead th {\n",
       "        text-align: right;\n",
       "    }\n",
       "</style>\n",
       "<table border=\"1\" class=\"dataframe\">\n",
       "  <thead>\n",
       "    <tr style=\"text-align: right;\">\n",
       "      <th></th>\n",
       "      <th>Country</th>\n",
       "      <th>EdLevel</th>\n",
       "      <th>YearsCodePro</th>\n",
       "      <th>Employment</th>\n",
       "      <th>Salary</th>\n",
       "    </tr>\n",
       "  </thead>\n",
       "  <tbody>\n",
       "    <tr>\n",
       "      <th>2</th>\n",
       "      <td>United Kingdom of Great Britain and Northern I...</td>\n",
       "      <td>Master’s degree (M.A., M.S., M.Eng., MBA, etc.)</td>\n",
       "      <td>5</td>\n",
       "      <td>Employed, full-time</td>\n",
       "      <td>40205.0</td>\n",
       "    </tr>\n",
       "    <tr>\n",
       "      <th>3</th>\n",
       "      <td>Israel</td>\n",
       "      <td>Bachelor’s degree (B.A., B.S., B.Eng., etc.)</td>\n",
       "      <td>17</td>\n",
       "      <td>Employed, full-time</td>\n",
       "      <td>215232.0</td>\n",
       "    </tr>\n",
       "    <tr>\n",
       "      <th>8</th>\n",
       "      <td>Netherlands</td>\n",
       "      <td>Master’s degree (M.A., M.S., M.Eng., MBA, etc.)</td>\n",
       "      <td>6</td>\n",
       "      <td>Employed, full-time</td>\n",
       "      <td>49056.0</td>\n",
       "    </tr>\n",
       "    <tr>\n",
       "      <th>10</th>\n",
       "      <td>United Kingdom of Great Britain and Northern I...</td>\n",
       "      <td>Bachelor’s degree (B.A., B.S., B.Eng., etc.)</td>\n",
       "      <td>2</td>\n",
       "      <td>Employed, full-time</td>\n",
       "      <td>60307.0</td>\n",
       "    </tr>\n",
       "    <tr>\n",
       "      <th>11</th>\n",
       "      <td>United States of America</td>\n",
       "      <td>Bachelor’s degree (B.A., B.S., B.Eng., etc.)</td>\n",
       "      <td>10</td>\n",
       "      <td>Employed, full-time;Independent contractor, fr...</td>\n",
       "      <td>194400.0</td>\n",
       "    </tr>\n",
       "  </tbody>\n",
       "</table>\n",
       "</div>"
      ],
      "text/plain": [
       "                                              Country  \\\n",
       "2   United Kingdom of Great Britain and Northern I...   \n",
       "3                                              Israel   \n",
       "8                                         Netherlands   \n",
       "10  United Kingdom of Great Britain and Northern I...   \n",
       "11                           United States of America   \n",
       "\n",
       "                                            EdLevel YearsCodePro  \\\n",
       "2   Master’s degree (M.A., M.S., M.Eng., MBA, etc.)            5   \n",
       "3      Bachelor’s degree (B.A., B.S., B.Eng., etc.)           17   \n",
       "8   Master’s degree (M.A., M.S., M.Eng., MBA, etc.)            6   \n",
       "10     Bachelor’s degree (B.A., B.S., B.Eng., etc.)            2   \n",
       "11     Bachelor’s degree (B.A., B.S., B.Eng., etc.)           10   \n",
       "\n",
       "                                           Employment    Salary  \n",
       "2                                 Employed, full-time   40205.0  \n",
       "3                                 Employed, full-time  215232.0  \n",
       "8                                 Employed, full-time   49056.0  \n",
       "10                                Employed, full-time   60307.0  \n",
       "11  Employed, full-time;Independent contractor, fr...  194400.0  "
      ]
     },
     "execution_count": 8,
     "metadata": {},
     "output_type": "execute_result"
    }
   ],
   "source": [
    "df.head()"
   ]
  },
  {
   "cell_type": "code",
   "execution_count": 9,
   "id": "0506b26f",
   "metadata": {},
   "outputs": [
    {
     "name": "stdout",
     "output_type": "stream",
     "text": [
      "<class 'pandas.core.frame.DataFrame'>\n",
      "Index: 37919 entries, 2 to 73121\n",
      "Data columns (total 5 columns):\n",
      " #   Column        Non-Null Count  Dtype  \n",
      "---  ------        --------------  -----  \n",
      " 0   Country       37919 non-null  object \n",
      " 1   EdLevel       37919 non-null  object \n",
      " 2   YearsCodePro  37919 non-null  object \n",
      " 3   Employment    37919 non-null  object \n",
      " 4   Salary        37919 non-null  float64\n",
      "dtypes: float64(1), object(4)\n",
      "memory usage: 1.7+ MB\n"
     ]
    }
   ],
   "source": [
    "df.info()"
   ]
  },
  {
   "cell_type": "markdown",
   "metadata": {},
   "source": [
    "**EX3** Select the registers in the dataset that are full-employed and remove \"employment\" column"
   ]
  },
  {
   "cell_type": "code",
   "execution_count": 10,
   "id": "bb79c126",
   "metadata": {},
   "outputs": [
    {
     "name": "stdout",
     "output_type": "stream",
     "text": [
      "<class 'pandas.core.frame.DataFrame'>\n",
      "Index: 31382 entries, 2 to 73121\n",
      "Data columns (total 4 columns):\n",
      " #   Column        Non-Null Count  Dtype  \n",
      "---  ------        --------------  -----  \n",
      " 0   Country       31382 non-null  object \n",
      " 1   EdLevel       31382 non-null  object \n",
      " 2   YearsCodePro  31382 non-null  object \n",
      " 3   Salary        31382 non-null  float64\n",
      "dtypes: float64(1), object(3)\n",
      "memory usage: 1.2+ MB\n"
     ]
    }
   ],
   "source": [
    "df = df[df['Employment'] == 'Employed, full-time'].copy()\n",
    "df.drop(columns=['Employment'], inplace=True)\n",
    "df.info()"
   ]
  },
  {
   "cell_type": "markdown",
   "metadata": {},
   "source": [
    "**EX4** Count the regiters per country and move all countries with less than cut-off registers to \"Other\""
   ]
  },
  {
   "cell_type": "code",
   "execution_count": 11,
   "metadata": {},
   "outputs": [
    {
     "name": "stdout",
     "output_type": "stream",
     "text": [
      "Mean: 202.46\n",
      "Median: 24.00\n",
      "Q25: 6.00 (25% of countries have fewer employees)\n",
      "Q75: 145.50 (75% of countries have fewer employees)\n",
      "Percentage of countries with 100 or more employees: 29.03%\n",
      "Percentage of countries with 80 or more employees: 33.55%\n",
      "Country\n",
      "United States of America                                7858\n",
      "Germany                                                 2382\n",
      "United Kingdom of Great Britain and Northern Ireland    2341\n",
      "India                                                   1869\n",
      "Canada                                                  1249\n",
      "                                                        ... \n",
      "Haiti                                                      1\n",
      "Zambia                                                     1\n",
      "Suriname                                                   1\n",
      "Somalia                                                    1\n",
      "Seychelles                                                 1\n",
      "Name: count, Length: 155, dtype: int64\n"
     ]
    }
   ],
   "source": [
    "cutoff = 80\n",
    "# Count the number of registers per country\n",
    "country_counts = df['Country'].value_counts()\n",
    "\n",
    "# Calculate key values\n",
    "mean_value = country_counts.mean()\n",
    "median_value = country_counts.median()\n",
    "q25 = country_counts.quantile(0.25)\n",
    "q75 = country_counts.quantile(0.75)\n",
    "# Calculate the percentage of countries with less or more than 100 employees\n",
    "percentage_more_than_100 = (country_counts >= 100).mean() * 100\n",
    "percentage_more_than_80 = (country_counts >= 80).mean() * 100\n",
    "\n",
    "# Print key values\n",
    "print(f\"Mean: {mean_value:.2f}\")\n",
    "print(f\"Median: {median_value:.2f}\")\n",
    "print(f\"Q25: {q25:.2f} (25% of countries have fewer employees)\")\n",
    "print(f\"Q75: {q75:.2f} (75% of countries have fewer employees)\")\n",
    "print(f\"Percentage of countries with 100 or more employees: {percentage_more_than_100:.2f}%\")\n",
    "print(f\"Percentage of countries with 80 or more employees: {percentage_more_than_80:.2f}%\")\n",
    "print(country_counts)\n",
    "\n",
    "# Identify countries with fewer registers than the cutoff\n",
    "countries_to_replace = country_counts[country_counts < 80].index\n",
    "\n",
    "# Replace countries with fewer registers than the cutoff with 'Other'\n",
    "df.loc[df['Country'].isin(countries_to_replace), 'Country'] = 'Other'"
   ]
  },
  {
   "cell_type": "code",
   "execution_count": 12,
   "metadata": {},
   "outputs": [
    {
     "data": {
      "image/png": "[encoded data removed]",
      "text/plain": [
       "<Figure size 1800x1800 with 1 Axes>"
      ]
     },
     "metadata": {
      "needs_background": "light"
     },
     "output_type": "display_data"
    }
   ],
   "source": [
    "import matplotlib.pyplot as plt\n",
    "import seaborn as sns\n",
    "\n",
    "# Choose the top N countries for better readability\n",
    "top_countries = df['Country'].value_counts().nlargest(20).index\n",
    "\n",
    "# Create a DataFrame for only the top countries\n",
    "df_top_countries = df[df['Country'].isin(top_countries)]\n",
    "\n",
    "# Order the countries by the number of employees\n",
    "order = df_top_countries['Country'].value_counts().index\n",
    "\n",
    "# Set the plot size\n",
    "plot_size = (25, 25)\n",
    "\n",
    "plt.figure(figsize=plot_size)\n",
    "\n",
    "# Plotting the horizontal bar chart with ordered countries and white background for labels\n",
    "ax = sns.countplot(y='Country', data=df_top_countries, palette='viridis', order=order)\n",
    "plt.title('Top Countries by Number of Employees', fontsize=int(plot_size[0]*1.5))\n",
    "plt.xlabel('Number of Employees', fontsize=int(plot_size[0]))\n",
    "plt.ylabel('Country', fontsize=int(plot_size[0]))\n",
    "\n",
    "# Annotate the bars with the actual counts for better clarity\n",
    "for index, value in enumerate(df_top_countries['Country'].value_counts()):\n",
    "    ax.text(value + 0.1, index, str(value), ha='center', va='center', fontsize=int(plot_size[0]), bbox=dict(facecolor='white', alpha=0.5))\n",
    "\n",
    "# Draw a mean line\n",
    "mean_value = df['Country'].value_counts().mean()\n",
    "plt.axvline(mean_value, color='red', linestyle='dashed', linewidth=1, label='Mean')\n",
    "\n",
    "ax.tick_params(axis='both', which='major', labelsize=int(plot_size[0]*0.8))\n",
    "\n",
    "# Set legend fontsize proportional to the plot size\n",
    "plt.legend(fontsize=int(plot_size[0]))\n",
    "\n",
    "plt.show()"
   ]
  },
  {
   "cell_type": "code",
   "execution_count": 13,
   "metadata": {},
   "outputs": [
    {
     "name": "stdout",
     "output_type": "stream",
     "text": [
      "<class 'pandas.core.frame.DataFrame'>\n",
      "Index: 31382 entries, 2 to 73121\n",
      "Data columns (total 4 columns):\n",
      " #   Column        Non-Null Count  Dtype  \n",
      "---  ------        --------------  -----  \n",
      " 0   Country       31382 non-null  object \n",
      " 1   EdLevel       31382 non-null  object \n",
      " 2   YearsCodePro  31382 non-null  object \n",
      " 3   Salary        31382 non-null  float64\n",
      "dtypes: float64(1), object(3)\n",
      "memory usage: 1.2+ MB\n"
     ]
    }
   ],
   "source": [
    "df.head()\n",
    "df.info()"
   ]
  },
  {
   "cell_type": "markdown",
   "metadata": {},
   "source": [
    "**EX5** To analyze the distribution of salaries per countries, build a boxplot per `country` and `salary`."
   ]
  },
  {
   "cell_type": "code",
   "execution_count": 14,
   "metadata": {},
   "outputs": [
    {
     "data": {
      "image/png": "[encoded data removed]",
      "text/plain": [
       "<Figure size 1080x576 with 1 Axes>"
      ]
     },
     "metadata": {
      "needs_background": "light"
     },
     "output_type": "display_data"
    }
   ],
   "source": [
    "# Set the plot size\n",
    "# Set the plot size\n",
    "plot_size = (15, 8)\n",
    "plt.figure(figsize=plot_size)\n",
    "\n",
    "# Define a custom color palette for better visibility\n",
    "custom_palette = sns.color_palette(\"Set2\")\n",
    "\n",
    "# Plotting the boxplot for salaries per country with customizations\n",
    "sns.boxplot(x='Country', y='Salary', data=df, palette=custom_palette)\n",
    "plt.title('Distribution of Salaries per Country', fontsize=int(plot_size[0]*0.8))\n",
    "plt.xlabel('Country', fontsize=int(plot_size[0]*0.6))\n",
    "plt.ylabel('Salary', fontsize=int(plot_size[0]*0.6))\n",
    "plt.xticks(rotation=90, fontsize=int(plot_size[0]*0.5))  # Rotate country names for better readability\n",
    "\n",
    "# Adjust tick label font size on the y-axis\n",
    "plt.yticks(fontsize=int(plot_size[0]*0.5))\n",
    "\n",
    "# Customize the grid lines for better visibility\n",
    "plt.grid(axis='y', linestyle='--', alpha=0.7)\n",
    "\n",
    "plt.show()"
   ]
  },
  {
   "cell_type": "markdown",
   "metadata": {},
   "source": [
    "**EX6** To improve the resolution, filter the dataset based on salary between 10K and 250K and verify the distribution of salaries per country. Which are the most relevant insights based on these new boxplots?\n"
   ]
  },
  {
   "cell_type": "code",
   "execution_count": 15,
   "metadata": {},
   "outputs": [
    {
     "data": {
      "image/png": "[encoded data removed]",
      "text/plain": [
       "<Figure size 1440x720 with 1 Axes>"
      ]
     },
     "metadata": {
      "needs_background": "dark"
     },
     "output_type": "display_data"
    }
   ],
   "source": [
    "# Filter the dataset based on salary range\n",
    "df = df[(df['Salary'] >= 10000) & (df['Salary'] <= 250000)]\n",
    "\n",
    "# Set the plot size\n",
    "plot_size = (20, 10)\n",
    "plt.figure(figsize=plot_size)\n",
    "\n",
    "# Define a custom color palette for better visibility\n",
    "custom_palette = sns.color_palette(\"bright\", n_colors = 50)\n",
    "\n",
    "# Sort the dataframe by median salary per country\n",
    "sorted_countries = df.groupby('Country')['Salary'].median().sort_values(ascending=False).index\n",
    "\n",
    "# Set the background to black\n",
    "plt.rcParams['axes.facecolor'] = 'black'\n",
    "plt.rcParams['text.color'] = 'white'\n",
    "plt.rcParams['axes.labelcolor'] = 'white'\n",
    "plt.rcParams['xtick.color'] = 'white'\n",
    "plt.rcParams['ytick.color'] = 'white'\n",
    "\n",
    "# Plotting the boxplot for filtered salaries per country with customizations\n",
    "box_plot = sns.boxplot(x='Country', y='Salary', data=df, palette=custom_palette, order=sorted_countries, showfliers=True)\n",
    "for flier in box_plot.lines:\n",
    "    flier.set_markeredgecolor('white')\n",
    "    flier.set_markerfacecolor('white')\n",
    "# Change the color of the outlier points and the lines of the boxplots\n",
    "for i, artist in enumerate(box_plot.artists):\n",
    "    col = artist.get_facecolor()\n",
    "    # Change the color of the lines of the boxplots\n",
    "    for j in range(6*i,6*(i+1)):\n",
    "         box_plot.lines[j].set_color(col)\n",
    "\n",
    "plt.title('Distribution of Salaries per Country (10K to 250K)', fontsize=int(plot_size[0]))\n",
    "plt.xlabel('Country', fontsize=int(plot_size[0]*0.9))\n",
    "plt.ylabel('Salary', fontsize=int(plot_size[0]*0.9))\n",
    "plt.xticks(rotation=90, fontsize=int(plot_size[0]*0.7))  # Rotate country names for better readability\n",
    "\n",
    "# Adjust tick label font size on the y-axis\n",
    "plt.yticks(fontsize=int(plot_size[0]*0.7))\n",
    "\n",
    "# Customize the grid lines for better visibility\n",
    "plt.grid(axis='y', linestyle='--', alpha=0.7, color='white')\n",
    "\n",
    "# Highlight the median line inside the boxplot\n",
    "for patch in plt.gca().artists:\n",
    "    r, g, b, a = patch.get_facecolor()\n",
    "    patch.set_facecolor((r, g, b, .3))\n",
    "    patch.set_edgecolor((r, g, b, 1))\n",
    "\n",
    "# Annotate the country with the highest median salary\n",
    "highest_country = sorted_countries[0]\n",
    "\n",
    "plt.show()\n"
   ]
  },
  {
   "cell_type": "markdown",
   "metadata": {},
   "source": [
    "The most relevant insights are about the differences between the salary distribution among the different countries. In my ordered box plots, we can see how United satets is the country with highest mean salary and with the highest quantiles too. Also, we can see how Spain is really far from the first positions. We can also notice how almost all the countries contain several outliers, since in all conuntries there are people with considerably higher salaries than the expected."
   ]
  },
  {
   "cell_type": "markdown",
   "metadata": {},
   "source": [
    "Let's prepare the `YearsCodePro` to integer. We will build a new **clean_experience()** function to encode over 50 years and below 0.5 years of experience respectively."
   ]
  },
  {
   "cell_type": "code",
   "execution_count": 16,
   "id": "3f9f57e5",
   "metadata": {},
   "outputs": [
    {
     "name": "stdout",
     "output_type": "stream",
     "text": [
      "<class 'pandas.core.series.Series'>\n"
     ]
    },
    {
     "data": {
      "text/plain": [
       "array(['5', '17', '6', '2', '4', '10', '22', '20', '9', '14', '21', '15',\n",
       "       '3', '25', '7', '8', '12', '19', '24', '1', '11', '23',\n",
       "       'Less than 1 year', '18', '37', '46', '13', '32', '27', '28', '16',\n",
       "       '31', '30', '34', '35', '26', '42', '38', '36', '40', '41', '29',\n",
       "       '33', '39', '48', '45', '44', '43', 'More than 50 years', '47',\n",
       "       '49', '50'], dtype=object)"
      ]
     },
     "execution_count": 16,
     "metadata": {},
     "output_type": "execute_result"
    }
   ],
   "source": [
    "print(type(df[\"YearsCodePro\"]))\n",
    "df[\"YearsCodePro\"].unique()"
   ]
  },
  {
   "cell_type": "code",
   "execution_count": 17,
   "id": "9b4de202",
   "metadata": {},
   "outputs": [],
   "source": [
    "def clean_experience(x):\n",
    "    if x ==  'More than 50 years':\n",
    "        return 50\n",
    "    if x == 'Less than 1 year':\n",
    "        return 0.5\n",
    "    return float(x)\n",
    "\n",
    "df['YearsCodePro'] = df['YearsCodePro'].apply(clean_experience)"
   ]
  },
  {
   "cell_type": "code",
   "execution_count": 18,
   "id": "4ecfa09b",
   "metadata": {},
   "outputs": [
    {
     "name": "stdout",
     "output_type": "stream",
     "text": [
      "<class 'pandas.core.frame.DataFrame'>\n",
      "Index: 27080 entries, 2 to 73121\n",
      "Data columns (total 4 columns):\n",
      " #   Column        Non-Null Count  Dtype  \n",
      "---  ------        --------------  -----  \n",
      " 0   Country       27080 non-null  object \n",
      " 1   EdLevel       27080 non-null  object \n",
      " 2   YearsCodePro  27080 non-null  float64\n",
      " 3   Salary        27080 non-null  float64\n",
      "dtypes: float64(2), object(2)\n",
      "memory usage: 1.0+ MB\n"
     ]
    }
   ],
   "source": [
    "df.info()"
   ]
  },
  {
   "cell_type": "markdown",
   "metadata": {},
   "source": [
    "Let's normalize the different values of the `EdLevel`. We will build a new **clean_education** function to normalize the education levels."
   ]
  },
  {
   "cell_type": "code",
   "execution_count": 19,
   "id": "09069ecd",
   "metadata": {},
   "outputs": [
    {
     "data": {
      "text/plain": [
       "array(['Master’s degree (M.A., M.S., M.Eng., MBA, etc.)',\n",
       "       'Bachelor’s degree (B.A., B.S., B.Eng., etc.)',\n",
       "       'Secondary school (e.g. American high school, German Realschule or Gymnasium, etc.)',\n",
       "       'Something else', 'Associate degree (A.A., A.S., etc.)',\n",
       "       'Some college/university study without earning a degree',\n",
       "       'Professional degree (JD, MD, etc.)',\n",
       "       'Other doctoral degree (Ph.D., Ed.D., etc.)',\n",
       "       'Primary/elementary school'], dtype=object)"
      ]
     },
     "execution_count": 19,
     "metadata": {},
     "output_type": "execute_result"
    }
   ],
   "source": [
    "df[\"EdLevel\"].unique()"
   ]
  },
  {
   "cell_type": "code",
   "execution_count": 20,
   "id": "512c0a97",
   "metadata": {},
   "outputs": [],
   "source": [
    "def clean_education(x):\n",
    "    if 'Bachelor’s degree' in x:\n",
    "        return 'Bachelor’s degree'\n",
    "    if 'Master’s degree' in x:\n",
    "        return 'Master’s degree'\n",
    "    if 'Professional degree' in x or 'Other doctoral' in x:\n",
    "        return 'Post grad'\n",
    "    return 'Less than a Bachelors'\n",
    "\n",
    "df['EdLevel'] = df['EdLevel'].apply(clean_education)"
   ]
  },
  {
   "cell_type": "code",
   "execution_count": 21,
   "id": "5fbd387d",
   "metadata": {},
   "outputs": [],
   "source": [
    "df[\"EdLevel\"].unique()\n",
    "df = df"
   ]
  },
  {
   "cell_type": "code",
   "execution_count": 22,
   "metadata": {},
   "outputs": [],
   "source": [
    "#df.to_csv('countries.csv', index=False)"
   ]
  },
  {
   "cell_type": "markdown",
   "metadata": {},
   "source": [
    "**EX7** Encode using **LabelEncoder** function the `EdLevel` and `Country` columns. Store them into the same `EdLevel` and `Country` columns. "
   ]
  },
  {
   "cell_type": "code",
   "execution_count": 23,
   "metadata": {},
   "outputs": [
    {
     "name": "stdout",
     "output_type": "stream",
     "text": [
      "    Country  EdLevel  YearsCodePro    Salary\n",
      "2        50        2           5.0   40205.0\n",
      "3        24        0          17.0  215232.0\n",
      "8        29        2           6.0   49056.0\n",
      "10       50        0           2.0   60307.0\n",
      "12       51        0           5.0   65000.0\n"
     ]
    }
   ],
   "source": [
    "from sklearn.preprocessing import LabelEncoder\n",
    "# Create LabelEncoder objects\n",
    "ed_level_encoder = LabelEncoder()\n",
    "country_encoder = LabelEncoder()\n",
    "# Encode 'EdLevel' and 'Country' columns\n",
    "df['EdLevel'] = ed_level_encoder.fit_transform(df['EdLevel'])\n",
    "df['Country'] = country_encoder.fit_transform(df['Country'])\n",
    "\n",
    "# Display the first few rows of the modified DataFrame\n",
    "print(df.head())"
   ]
  },
  {
   "cell_type": "code",
   "execution_count": 167,
   "metadata": {},
   "outputs": [],
   "source": [
    "#df.to_csv('encoded.csv', index=False)"
   ]
  },
  {
   "cell_type": "markdown",
   "id": "a00f0a6d",
   "metadata": {},
   "source": [
    "# 2. Modelling "
   ]
  },
  {
   "cell_type": "markdown",
   "metadata": {},
   "source": [
    "We are ready to build a ML model to predict the salary based on the 3 variables: country, education level and years of experience. "
   ]
  },
  {
   "cell_type": "markdown",
   "metadata": {},
   "source": [
    "**EX8** Split into train and test dataset and verify the length of all datasets."
   ]
  },
  {
   "cell_type": "code",
   "execution_count": 24,
   "metadata": {},
   "outputs": [
    {
     "name": "stdout",
     "output_type": "stream",
     "text": [
      "Number of samples in the original dataset: 27080\n",
      "Number of samples in the training set: 21664\n",
      "Number of samples in the testing set: 5416\n"
     ]
    }
   ],
   "source": [
    "from sklearn.model_selection import train_test_split\n",
    "\n",
    "# Assuming 'target_column' is the column you are trying to predict\n",
    "X = df.drop('Salary', axis=1)\n",
    "y = df['Salary']\n",
    "\n",
    "# Split the data into training and testing sets\n",
    "X_train, X_test, y_train, y_test = train_test_split(X, y, test_size=0.2, random_state=42)\n",
    "\n",
    "# Verify the lengths of the datasets\n",
    "print(f\"Number of samples in the original dataset: {len(df)}\")\n",
    "print(f\"Number of samples in the training set: {len(X_train)}\")\n",
    "print(f\"Number of samples in the testing set: {len(X_test)}\")"
   ]
  },
  {
   "cell_type": "markdown",
   "metadata": {},
   "source": [
    "**EX9** Apply a Linear Regression model to fit and evaluate the performance of the prediction based on the mean squared error."
   ]
  },
  {
   "cell_type": "code",
   "execution_count": 25,
   "metadata": {},
   "outputs": [
    {
     "name": "stdout",
     "output_type": "stream",
     "text": [
      "Mean Squared Error: 2080608484.7065248\n"
     ]
    }
   ],
   "source": [
    "from sklearn.linear_model import LinearRegression\n",
    "from sklearn.metrics import mean_squared_error\n",
    "\n",
    "# Initialize the Linear Regression model\n",
    "model = LinearRegression()\n",
    "\n",
    "# Fit the model on the training data\n",
    "model.fit(X_train, y_train)\n",
    "\n",
    "# Make predictions on the testing data\n",
    "y_pred = model.predict(X_test)\n",
    "\n",
    "# Evaluate performance using Mean Squared Error\n",
    "mse = mean_squared_error(y_test, y_pred)\n",
    "\n",
    "# Print the Mean Squared Error\n",
    "print(f'Mean Squared Error: {mse}')"
   ]
  },
  {
   "cell_type": "markdown",
   "metadata": {},
   "source": [
    "**EX10** Repeat the **EX9** using a RandomForest model. Has it improved the mean squared error?"
   ]
  },
  {
   "cell_type": "code",
   "execution_count": 26,
   "metadata": {},
   "outputs": [
    {
     "name": "stdout",
     "output_type": "stream",
     "text": [
      "Mean Squared Error (Random Forest): 1208467209.6967304\n"
     ]
    }
   ],
   "source": [
    "from sklearn.ensemble import RandomForestRegressor\n",
    "\n",
    "# Create a RandomForestRegressor model\n",
    "model_rf = RandomForestRegressor(random_state=42)\n",
    "\n",
    "# Fit the model\n",
    "model_rf.fit(X_train, y_train)\n",
    "\n",
    "# Make predictions\n",
    "y_pred_rf = model_rf.predict(X_test)\n",
    "\n",
    "# Calculate MSE\n",
    "mse_rf = mean_squared_error(y_test, y_pred_rf)\n",
    "print(f'Mean Squared Error (Random Forest): {mse_rf}')"
   ]
  },
  {
   "cell_type": "markdown",
   "metadata": {},
   "source": [
    "Yes, it has improved the mean squared error by around 80 million of squared $."
   ]
  },
  {
   "cell_type": "markdown",
   "metadata": {},
   "source": [
    "In order to find the best hyperparameters for the regression model, we will use **GridsearchCV** apply to the Random Forest."
   ]
  },
  {
   "cell_type": "code",
   "execution_count": 27,
   "id": "65aa92dd",
   "metadata": {},
   "outputs": [
    {
     "data": {
      "text/plain": [
       "GridSearchCV(estimator=RandomForestRegressor(random_state=42),\n",
       "             param_grid={'max_depth': [6, 8, 10, 12],\n",
       "                         'n_estimators': [50, 100, 200, 300, 500]},\n",
       "             scoring='neg_mean_squared_error')"
      ]
     },
     "execution_count": 27,
     "metadata": {},
     "output_type": "execute_result"
    }
   ],
   "source": [
    "from sklearn.model_selection import GridSearchCV\n",
    "\n",
    "max_depth = [6,8,10,12]\n",
    "n_estimatorsint=[50,100,200,300,500]\n",
    "parameters = {\"max_depth\": max_depth, \"n_estimators\": n_estimatorsint}\n",
    "\n",
    "random_forest_reg = RandomForestRegressor(random_state=42)\n",
    "\n",
    "gs = GridSearchCV(random_forest_reg, parameters, scoring='neg_mean_squared_error')\n",
    "gs.fit(X_train, y_train)"
   ]
  },
  {
   "cell_type": "markdown",
   "metadata": {},
   "source": [
    "Once calculate the **best estimator**, we will apply to our use case and calculate the **mean squared error**."
   ]
  },
  {
   "cell_type": "code",
   "execution_count": 28,
   "id": "0df523ad",
   "metadata": {},
   "outputs": [
    {
     "name": "stdout",
     "output_type": "stream",
     "text": [
      "$33,914.83\n"
     ]
    }
   ],
   "source": [
    "import numpy as np\n",
    "random_forest_reg = gs.best_estimator_\n",
    "\n",
    "random_forest_reg.fit(X_train, y_train)\n",
    "y_pred_test = random_forest_reg.predict(X_test)\n",
    "error = np.sqrt(mean_squared_error(y_test, y_pred_test))\n",
    "print(\"${:,.02f}\".format(error))"
   ]
  },
  {
   "cell_type": "markdown",
   "metadata": {},
   "source": [
    "**EX11** Calculate the performance based on **R2 score** of the regression model fitted with the best estimator. Which is your consideration about the performance of the model? Justify your answer."
   ]
  },
  {
   "cell_type": "code",
   "execution_count": 29,
   "metadata": {},
   "outputs": [
    {
     "name": "stdout",
     "output_type": "stream",
     "text": [
      "R2 Score: 0.58\n"
     ]
    }
   ],
   "source": [
    "from sklearn.metrics import r2_score\n",
    "\n",
    "# Assuming y_test and y_pred_test are your true and predicted values\n",
    "r2 = r2_score(y_test, y_pred_test)\n",
    "\n",
    "print(\"R2 Score: {:.2f}\".format(r2))"
   ]
  },
  {
   "cell_type": "markdown",
   "metadata": {},
   "source": [
    "A R2 score of 0.58 means the model is explaining the 58% of the variance of the mode, which is a good fit, but there is still room for improvement."
   ]
  },
  {
   "cell_type": "markdown",
   "metadata": {},
   "source": [
    "**EX12** Make a prediction for a software developer in `Spain`, with `Master's degree` and 15 years of experience."
   ]
  },
  {
   "cell_type": "code",
   "execution_count": 30,
   "metadata": {},
   "outputs": [
    {
     "name": "stdout",
     "output_type": "stream",
     "text": [
      "The predicted salary is $64,534.28\n"
     ]
    }
   ],
   "source": [
    "# Define the input values\n",
    "input_data = pd.DataFrame({\n",
    "    'Country': ['Spain'],\n",
    "    'EdLevel': ['Master’s degree'],\n",
    "    'YearsCodePro': [15]\n",
    "})\n",
    "input_data['Country'] = country_encoder.transform(input_data['Country'])\n",
    "input_data['EdLevel'] = ed_level_encoder.transform(input_data['EdLevel'])\n",
    "\n",
    "# Make a prediction using the trained model\n",
    "predicted_salary = random_forest_reg.predict(input_data)\n",
    "\n",
    "# Print the predicted salary\n",
    "print(\"The predicted salary is ${:,.02f}\".format(predicted_salary[0]))\n"
   ]
  },
  {
   "cell_type": "markdown",
   "id": "b474c988",
   "metadata": {},
   "source": [
    "# 3. Communicating results through a Visual Analytics web tool."
   ]
  },
  {
   "cell_type": "markdown",
   "metadata": {},
   "source": [
    "We are ready to share our results with our Consultant team and customers. To do it, we will create a Data product using the Streamlit framework. This web app should have a least 2 tabs: one for data exploration and other for salary prediction."
   ]
  },
  {
   "cell_type": "markdown",
   "metadata": {},
   "source": [
    "Before building this app, you should store the ML model and labencoders in a **pickle** format as follows. This pickle file will be the one you need to call in your web app."
   ]
  },
  {
   "cell_type": "code",
   "execution_count": 31,
   "id": "042531b2",
   "metadata": {},
   "outputs": [],
   "source": [
    "\n",
    "import pickle"
   ]
  },
  {
   "cell_type": "code",
   "execution_count": 32,
   "id": "e1e956e6",
   "metadata": {},
   "outputs": [],
   "source": [
    "data = {\"model\": random_forest_reg, \"le_country\": country_encoder, \"le_education\": ed_level_encoder}\n",
    "with open('saved_steps.pkl', 'wb') as file:\n",
    "    pickle.dump(data, file)"
   ]
  },
  {
   "cell_type": "markdown",
   "metadata": {},
   "source": [
    "You can verify the pickle file works as follows: first, open the file storing into 3 variables the regressor, the labencoder for country and the labencoder for education."
   ]
  },
  {
   "cell_type": "code",
   "execution_count": 33,
   "id": "ebe62818",
   "metadata": {},
   "outputs": [],
   "source": [
    "with open('saved_steps.pkl', 'rb') as file:\n",
    "    data = pickle.load(file)\n",
    "\n",
    "regressor_loaded = data[\"model\"]\n",
    "le_country = data[\"le_country\"]\n",
    "le_education = data[\"le_education\"]"
   ]
  },
  {
   "cell_type": "markdown",
   "metadata": {},
   "source": [
    "You can also make a prediction with a sample as follows:"
   ]
  },
  {
   "cell_type": "code",
   "execution_count": 34,
   "id": "44c20ee9",
   "metadata": {},
   "outputs": [
    {
     "data": {
      "text/plain": [
       "array([69602.54505636, 33888.04928849, 95316.66353638, ...,\n",
       "       89232.59132598, 22433.86671487, 47955.34253868])"
      ]
     },
     "execution_count": 34,
     "metadata": {},
     "output_type": "execute_result"
    }
   ],
   "source": [
    "y_pred = regressor_loaded.predict(X_test)\n",
    "y_pred"
   ]
  },
  {
   "cell_type": "markdown",
   "metadata": {},
   "source": [
    "Now, you are ready to go to next step: building the Visual Analytics tool based on Streamlit. Recall, your app should have a main .py file (for instante, **my_app.py**) and a folder called **pages** with all .py files you want to show in your app."
   ]
  },
  {
   "cell_type": "code",
   "execution_count": null,
   "metadata": {},
   "outputs": [],
   "source": []
  },
  {
   "cell_type": "markdown",
   "metadata": {},
   "source": [
    "# 4. Extra Model"
   ]
  },
  {
   "cell_type": "code",
   "execution_count": 54,
   "metadata": {},
   "outputs": [],
   "source": [
    "import pandas as pd\n",
    "import matplotlib.pyplot as plt\n",
    "\n",
    "df = pd.read_csv(\"survey_results_public.csv\")"
   ]
  },
  {
   "cell_type": "code",
   "execution_count": 2,
   "metadata": {},
   "outputs": [
    {
     "name": "stdout",
     "output_type": "stream",
     "text": [
      "<class 'pandas.core.frame.DataFrame'>\n",
      "RangeIndex: 73268 entries, 0 to 73267\n",
      "Data columns (total 79 columns):\n",
      " #   Column                          Non-Null Count  Dtype  \n",
      "---  ------                          --------------  -----  \n",
      " 0   ResponseId                      73268 non-null  int64  \n",
      " 1   MainBranch                      73268 non-null  object \n",
      " 2   Employment                      71709 non-null  object \n",
      " 3   RemoteWork                      58958 non-null  object \n",
      " 4   CodingActivities                58899 non-null  object \n",
      " 5   EdLevel                         71571 non-null  object \n",
      " 6   LearnCode                       71580 non-null  object \n",
      " 7   LearnCodeOnline                 50685 non-null  object \n",
      " 8   LearnCodeCoursesCert            29389 non-null  object \n",
      " 9   YearsCode                       71331 non-null  object \n",
      " 10  YearsCodePro                    51833 non-null  object \n",
      " 11  DevType                         61302 non-null  object \n",
      " 12  OrgSize                         51039 non-null  object \n",
      " 13  PurchaseInfluence               50969 non-null  object \n",
      " 14  BuyNewTool                      67963 non-null  object \n",
      " 15  Country                         71771 non-null  object \n",
      " 16  Currency                        51264 non-null  object \n",
      " 17  CompTotal                       38422 non-null  float64\n",
      " 18  CompFreq                        44425 non-null  object \n",
      " 19  LanguageHaveWorkedWith          70975 non-null  object \n",
      " 20  LanguageWantToWorkWith          67027 non-null  object \n",
      " 21  DatabaseHaveWorkedWith          60121 non-null  object \n",
      " 22  DatabaseWantToWorkWith          51014 non-null  object \n",
      " 23  PlatformHaveWorkedWith          49924 non-null  object \n",
      " 24  PlatformWantToWorkWith          40415 non-null  object \n",
      " 25  WebframeHaveWorkedWith          53544 non-null  object \n",
      " 26  WebframeWantToWorkWith          46122 non-null  object \n",
      " 27  MiscTechHaveWorkedWith          44992 non-null  object \n",
      " 28  MiscTechWantToWorkWith          36810 non-null  object \n",
      " 29  ToolsTechHaveWorkedWith         54171 non-null  object \n",
      " 30  ToolsTechWantToWorkWith         46566 non-null  object \n",
      " 31  NEWCollabToolsHaveWorkedWith    70347 non-null  object \n",
      " 32  NEWCollabToolsWantToWorkWith    64108 non-null  object \n",
      " 33  OpSysProfessional use           65503 non-null  object \n",
      " 34  OpSysPersonal use               70963 non-null  object \n",
      " 35  VersionControlSystem            71379 non-null  object \n",
      " 36  VCInteraction                   68156 non-null  object \n",
      " 37  VCHostingPersonal use           0 non-null      float64\n",
      " 38  VCHostingProfessional use       0 non-null      float64\n",
      " 39  OfficeStackAsyncHaveWorkedWith  46223 non-null  object \n",
      " 40  OfficeStackAsyncWantToWorkWith  32072 non-null  object \n",
      " 41  OfficeStackSyncHaveWorkedWith   62128 non-null  object \n",
      " 42  OfficeStackSyncWantToWorkWith   47688 non-null  object \n",
      " 43  Blockchain                      71071 non-null  object \n",
      " 44  NEWSOSites                      71365 non-null  object \n",
      " 45  SOVisitFreq                     70961 non-null  object \n",
      " 46  SOAccount                       71572 non-null  object \n",
      " 47  SOPartFreq                      58229 non-null  object \n",
      " 48  SOComm                          71408 non-null  object \n",
      " 49  Age                             70946 non-null  object \n",
      " 50  Gender                          70853 non-null  object \n",
      " 51  Trans                           70315 non-null  object \n",
      " 52  Sexuality                       66565 non-null  object \n",
      " 53  Ethnicity                       69474 non-null  object \n",
      " 54  Accessibility                   67244 non-null  object \n",
      " 55  MentalHealth                    66447 non-null  object \n",
      " 56  TBranch                         52670 non-null  object \n",
      " 57  ICorPM                          36283 non-null  object \n",
      " 58  WorkExp                         36769 non-null  float64\n",
      " 59  Knowledge_1                     35804 non-null  object \n",
      " 60  Knowledge_2                     34973 non-null  object \n",
      " 61  Knowledge_3                     35133 non-null  object \n",
      " 62  Knowledge_4                     35097 non-null  object \n",
      " 63  Knowledge_5                     35014 non-null  object \n",
      " 64  Knowledge_6                     34991 non-null  object \n",
      " 65  Knowledge_7                     34977 non-null  object \n",
      " 66  Frequency_1                     35371 non-null  object \n",
      " 67  Frequency_2                     35344 non-null  object \n",
      " 68  Frequency_3                     34515 non-null  object \n",
      " 69  TimeSearching                   36198 non-null  object \n",
      " 70  TimeAnswering                   36022 non-null  object \n",
      " 71  Onboarding                      35679 non-null  object \n",
      " 72  ProfessionalTech                34906 non-null  object \n",
      " 73  TrueFalse_1                     35819 non-null  object \n",
      " 74  TrueFalse_2                     35715 non-null  object \n",
      " 75  TrueFalse_3                     35749 non-null  object \n",
      " 76  SurveyLength                    70444 non-null  object \n",
      " 77  SurveyEase                      70508 non-null  object \n",
      " 78  ConvertedCompYearly             38071 non-null  float64\n",
      "dtypes: float64(5), int64(1), object(73)\n",
      "memory usage: 44.2+ MB\n"
     ]
    }
   ],
   "source": [
    "df.info()"
   ]
  },
  {
   "cell_type": "code",
   "execution_count": 8,
   "metadata": {},
   "outputs": [
    {
     "name": "stdout",
     "output_type": "stream",
     "text": [
      "YearsCode:\n",
      "YearsCode\n",
      "10                    5217\n",
      "5                     5193\n",
      "6                     4651\n",
      "4                     4480\n",
      "7                     4237\n",
      "8                     4227\n",
      "3                     4122\n",
      "2                     3351\n",
      "12                    2995\n",
      "15                    2962\n",
      "20                    2659\n",
      "9                     2581\n",
      "11                    1819\n",
      "14                    1811\n",
      "13                    1624\n",
      "25                    1582\n",
      "1                     1566\n",
      "Less than 1 year      1413\n",
      "16                    1406\n",
      "30                    1330\n",
      "22                    1176\n",
      "18                    1150\n",
      "17                    1080\n",
      "40                     777\n",
      "24                     752\n",
      "35                     742\n",
      "23                     644\n",
      "19                     563\n",
      "26                     489\n",
      "27                     485\n",
      "21                     483\n",
      "28                     425\n",
      "32                     371\n",
      "38                     288\n",
      "37                     277\n",
      "34                     241\n",
      "36                     236\n",
      "33                     229\n",
      "42                     216\n",
      "29                     208\n",
      "More than 50 years     172\n",
      "31                     170\n",
      "45                     167\n",
      "39                     159\n",
      "41                     143\n",
      "43                     115\n",
      "44                     104\n",
      "50                      68\n",
      "46                      57\n",
      "47                      42\n",
      "48                      41\n",
      "49                      35\n",
      "Name: count, dtype: int64\n",
      "\n",
      "OrgSize:\n",
      "OrgSize\n",
      "20 to 99 employees                                    10343\n",
      "100 to 499 employees                                   9289\n",
      "10,000 or more employees                               6922\n",
      "1,000 to 4,999 employees                               5736\n",
      "2 to 9 employees                                       4887\n",
      "10 to 19 employees                                     4251\n",
      "500 to 999 employees                                   3645\n",
      "Just me - I am a freelancer, sole proprietor, etc.     2771\n",
      "5,000 to 9,999 employees                               2189\n",
      "I don’t know                                           1006\n",
      "Name: count, dtype: int64\n",
      "\n",
      "DevType:\n",
      "DevType\n",
      "Developer, full-stack                                                                                                                                                                                                                                                                                                                                                                                                                  7142\n",
      "Developer, back-end                                                                                                                                                                                                                                                                                                                                                                                                                    5301\n",
      "Developer, front-end                                                                                                                                                                                                                                                                                                                                                                                                                   2385\n",
      "Developer, front-end;Developer, full-stack;Developer, back-end                                                                                                                                                                                                                                                                                                                                                                         1807\n",
      "Developer, full-stack;Developer, back-end                                                                                                                                                                                                                                                                                                                                                                                              1535\n",
      "                                                                                                                                                                                                                                                                                                                                                                                                                                       ... \n",
      "Developer, front-end;Developer, full-stack;Developer, back-end;Project manager;Product manager;Blockchain                                                                                                                                                                                                                                                                                                                                 1\n",
      "Developer, front-end;Developer, QA or test;Developer, game or graphics;System administrator                                                                                                                                                                                                                                                                                                                                               1\n",
      "Database administrator;Academic researcher;Designer;Blockchain                                                                                                                                                                                                                                                                                                                                                                            1\n",
      "Data scientist or machine learning specialist;Developer, full-stack;Database administrator;Scientist;System administrator                                                                                                                                                                                                                                                                                                                 1\n",
      "Developer, front-end;Engineer, data;Engineer, site reliability;Developer, full-stack;Developer, back-end;Developer, desktop or enterprise applications;Developer, QA or test;Student;Developer, mobile;Academic researcher;DevOps specialist;Developer, embedded applications or devices;Developer, game or graphics;Cloud infrastructure engineer;Data or business analyst;Designer;Scientist;Product manager;System administrator       1\n",
      "Name: count, Length: 9984, dtype: int64\n"
     ]
    }
   ],
   "source": [
    "# YearsCode column\n",
    "years_code_counts = df['YearsCode'].value_counts()\n",
    "\n",
    "# OrgSize column\n",
    "org_size_counts = df['OrgSize'].value_counts()\n",
    "\n",
    "# DevType column\n",
    "dev_type_counts = df['DevType'].value_counts()\n",
    "\n",
    "# Display the results\n",
    "print(\"YearsCode:\")\n",
    "print(years_code_counts)\n",
    "\n",
    "print(\"\\nOrgSize:\")\n",
    "print(org_size_counts)\n",
    "\n",
    "print(\"\\nDevType:\")\n",
    "print(dev_type_counts)"
   ]
  },
  {
   "cell_type": "code",
   "execution_count": 55,
   "metadata": {},
   "outputs": [
    {
     "name": "stdout",
     "output_type": "stream",
     "text": [
      "<class 'pandas.core.frame.DataFrame'>\n",
      "RangeIndex: 73268 entries, 0 to 73267\n",
      "Data columns (total 7 columns):\n",
      " #   Column        Non-Null Count  Dtype  \n",
      "---  ------        --------------  -----  \n",
      " 0   Country       71771 non-null  object \n",
      " 1   EdLevel       71571 non-null  object \n",
      " 2   YearsCodePro  51833 non-null  object \n",
      " 3   Employment    71709 non-null  object \n",
      " 4   OrgSize       51039 non-null  object \n",
      " 5   DevType       61302 non-null  object \n",
      " 6   Salary        38071 non-null  float64\n",
      "dtypes: float64(1), object(6)\n",
      "memory usage: 3.9+ MB\n"
     ]
    }
   ],
   "source": [
    "selected_columns = ['Country', 'EdLevel', 'YearsCodePro', 'Employment','OrgSize','DevType', 'ConvertedCompYearly']\n",
    "df = df[selected_columns].copy()\n",
    "df.rename(columns={'ConvertedCompYearly': 'Salary'}, inplace=True)\n",
    "df.info()"
   ]
  },
  {
   "cell_type": "code",
   "execution_count": 56,
   "metadata": {},
   "outputs": [
    {
     "name": "stdout",
     "output_type": "stream",
     "text": [
      "No null values in the DataFrame.\n",
      "<class 'pandas.core.frame.DataFrame'>\n",
      "Index: 37828 entries, 2 to 73121\n",
      "Data columns (total 7 columns):\n",
      " #   Column        Non-Null Count  Dtype  \n",
      "---  ------        --------------  -----  \n",
      " 0   Country       37828 non-null  object \n",
      " 1   EdLevel       37828 non-null  object \n",
      " 2   YearsCodePro  37828 non-null  object \n",
      " 3   Employment    37828 non-null  object \n",
      " 4   OrgSize       37828 non-null  object \n",
      " 5   DevType       37828 non-null  object \n",
      " 6   Salary        37828 non-null  float64\n",
      "dtypes: float64(1), object(6)\n",
      "memory usage: 2.3+ MB\n"
     ]
    }
   ],
   "source": [
    "df = df.dropna()\n",
    "\n",
    "# Verify if there are any null values left\n",
    "if df.isnull().any().any():\n",
    "    print(\"There are still null values in the DataFrame.\")\n",
    "else:\n",
    "    print(\"No null values in the DataFrame.\")\n",
    "df.info()"
   ]
  },
  {
   "cell_type": "code",
   "execution_count": 57,
   "metadata": {},
   "outputs": [
    {
     "name": "stdout",
     "output_type": "stream",
     "text": [
      "<class 'pandas.core.frame.DataFrame'>\n",
      "Index: 31345 entries, 2 to 73121\n",
      "Data columns (total 6 columns):\n",
      " #   Column        Non-Null Count  Dtype  \n",
      "---  ------        --------------  -----  \n",
      " 0   Country       31345 non-null  object \n",
      " 1   EdLevel       31345 non-null  object \n",
      " 2   YearsCodePro  31345 non-null  object \n",
      " 3   OrgSize       31345 non-null  object \n",
      " 4   DevType       31345 non-null  object \n",
      " 5   Salary        31345 non-null  float64\n",
      "dtypes: float64(1), object(5)\n",
      "memory usage: 1.7+ MB\n"
     ]
    }
   ],
   "source": [
    "df = df[df['Employment'] == 'Employed, full-time'].copy()\n",
    "df.drop(columns=['Employment'], inplace=True)\n",
    "df.info()"
   ]
  },
  {
   "cell_type": "code",
   "execution_count": 58,
   "metadata": {},
   "outputs": [],
   "source": [
    "cutoff = 80\n",
    "# Count the number of registers per country\n",
    "country_counts = df['Country'].value_counts()\n",
    "\n",
    "# Identify countries with fewer registers than the cutoff\n",
    "countries_to_replace = country_counts[country_counts < 80].index\n",
    "\n",
    "# Replace countries with fewer registers than the cutoff with 'Other'\n",
    "df.loc[df['Country'].isin(countries_to_replace), 'Country'] = 'Other'"
   ]
  },
  {
   "cell_type": "code",
   "execution_count": 59,
   "metadata": {},
   "outputs": [],
   "source": [
    "def clean_experience(x):\n",
    "    if x ==  'More than 50 years':\n",
    "        return 50\n",
    "    if x == 'Less than 1 year':\n",
    "        return 0.5\n",
    "    return float(x)\n",
    "\n",
    "df['YearsCodePro'] = df['YearsCodePro'].apply(clean_experience)\n"
   ]
  },
  {
   "cell_type": "code",
   "execution_count": 60,
   "metadata": {},
   "outputs": [
    {
     "name": "stdout",
     "output_type": "stream",
     "text": [
      "OrgSize\n",
      "20.0       6719\n",
      "100.0      6379\n",
      "10000.0    4822\n",
      "1000.0     4051\n",
      "10.0       2558\n",
      "500.0      2511\n",
      "2.0        2246\n",
      "5000.0     1553\n",
      "1.0          83\n",
      "Name: count, dtype: int64\n"
     ]
    }
   ],
   "source": [
    "def clean_org_size(x):\n",
    "    if '20 to 99 employees' in x:\n",
    "        return 20\n",
    "    elif '100 to 499 employees' in x:\n",
    "        return 100\n",
    "    elif '10,000 or more employees' in x:\n",
    "        return 10000\n",
    "    elif '1,000 to 4,999 employees' in x:\n",
    "        return 1000\n",
    "    elif '2 to 9 employees' in x:\n",
    "        return 2\n",
    "    elif '10 to 19 employees' in x:\n",
    "        return 10\n",
    "    elif '500 to 999 employees' in x:\n",
    "        return 500\n",
    "    elif 'just me - i am a freelancer, sole proprietor, etc.' in x.lower():\n",
    "        return 1\n",
    "    elif '5,000 to 9,999 employees' in x:\n",
    "        return 5000\n",
    "    else:\n",
    "        return None\n",
    "\n",
    "# Apply the cleaning function to 'OrgSize'\n",
    "df['OrgSize'] = df['OrgSize'].apply(clean_org_size)\n",
    "\n",
    "# Drop rows with \"I don't know\"\n",
    "df = df[df['OrgSize'].notna()]\n",
    "\n",
    "# Display the modified DataFrame\n",
    "print(df['OrgSize'].value_counts())"
   ]
  },
  {
   "cell_type": "code",
   "execution_count": 61,
   "metadata": {},
   "outputs": [],
   "source": [
    "def clean_education(x):\n",
    "    if 'Bachelor’s degree' in x:\n",
    "        return 'Bachelor’s degree'\n",
    "    if 'Master’s degree' in x:\n",
    "        return 'Master’s degree'\n",
    "    if 'Professional degree' in x or 'Other doctoral' in x:\n",
    "        return 'Post grad'\n",
    "    return 'Less than a Bachelors'\n",
    "\n",
    "df['EdLevel'] = df['EdLevel'].apply(clean_education)"
   ]
  },
  {
   "cell_type": "code",
   "execution_count": 25,
   "metadata": {},
   "outputs": [
    {
     "name": "stdout",
     "output_type": "stream",
     "text": [
      "<class 'pandas.core.frame.DataFrame'>\n",
      "Index: 30922 entries, 2 to 73121\n",
      "Data columns (total 6 columns):\n",
      " #   Column        Non-Null Count  Dtype  \n",
      "---  ------        --------------  -----  \n",
      " 0   Country       30922 non-null  object \n",
      " 1   EdLevel       30922 non-null  object \n",
      " 2   YearsCodePro  30922 non-null  float64\n",
      " 3   OrgSize       30922 non-null  float64\n",
      " 4   DevType       30922 non-null  object \n",
      " 5   Salary        30922 non-null  float64\n",
      "dtypes: float64(3), object(3)\n",
      "memory usage: 1.7+ MB\n"
     ]
    }
   ],
   "source": [
    "df.info()"
   ]
  },
  {
   "cell_type": "code",
   "execution_count": 62,
   "metadata": {},
   "outputs": [
    {
     "name": "stdout",
     "output_type": "stream",
     "text": [
      "['Data scientist or machine learning specialist;Developer, front-end;Engineer, data;Engineer, site reliability'\n",
      " 'Developer, full-stack' 'Developer, full-stack;Developer, back-end' ...\n",
      " 'Developer, mobile;Database administrator'\n",
      " 'Developer, front-end;Developer, full-stack;Developer, back-end;Database administrator;DevOps specialist;Project manager;System administrator'\n",
      " 'Developer, front-end;Developer, full-stack;Developer, back-end;Developer, desktop or enterprise applications;Database administrator;Developer, embedded applications or devices;Cloud infrastructure engineer']\n",
      "Number of unique values in 'DevType': 5040\n"
     ]
    }
   ],
   "source": [
    "print(df['DevType'].unique())\n",
    "print(\"Number of unique values in 'DevType':\", len(df['DevType'].unique()))"
   ]
  },
  {
   "cell_type": "code",
   "execution_count": 66,
   "metadata": {},
   "outputs": [
    {
     "name": "stdout",
     "output_type": "stream",
     "text": [
      "Number of unique values in 'DevType' in filtered df: 39\n"
     ]
    }
   ],
   "source": [
    "# Count the occurrences of each DevType\n",
    "devtype_counts = df['DevType'].value_counts()\n",
    "\n",
    "# Identify DevTypes with less than 75 occurrences\n",
    "devtypes_to_replace = devtype_counts[devtype_counts < 75].index\n",
    "devtypes_to_replace = devtypes_to_replace.union(['Other (please specify):'])\n",
    "\n",
    "# Replace those DevTypes with 'Other' in a new DataFrame (df2)\n",
    "df = df.copy()\n",
    "df['DevType'] = df['DevType'].apply(lambda x: 'Other' if x in devtypes_to_replace else x)\n",
    "\n",
    "# Print the number of unique values in 'DevType' in df2\n",
    "print(\"Number of unique values in 'DevType' in filtered df:\", len(df['DevType'].unique()))"
   ]
  },
  {
   "cell_type": "code",
   "execution_count": 67,
   "metadata": {},
   "outputs": [],
   "source": [
    "#df.to_csv('complex.csv', index=False)"
   ]
  },
  {
   "cell_type": "code",
   "execution_count": 35,
   "metadata": {},
   "outputs": [
    {
     "name": "stdout",
     "output_type": "stream",
     "text": [
      "    Country  EdLevel  YearsCodePro  OrgSize  DevType    Salary\n",
      "2        50        2           5.0     20.0       37   40205.0\n",
      "3        24        0          17.0    100.0       24  215232.0\n",
      "10       50        0           2.0    100.0       27   60307.0\n",
      "12       51        0           5.0      2.0       24   65000.0\n",
      "16       11        0           4.0      2.0       24   19224.0\n"
     ]
    }
   ],
   "source": [
    "from sklearn.preprocessing import LabelEncoder\n",
    "\n",
    "# Create LabelEncoder objects\n",
    "ed_level_encoder = LabelEncoder()\n",
    "country_encoder = LabelEncoder()\n",
    "devtype_encoder = LabelEncoder()\n",
    "# Encode 'EdLevel' and 'Country' columns\n",
    "df['EdLevel'] = ed_level_encoder.fit_transform(df['EdLevel'])\n",
    "df['Country'] = country_encoder.fit_transform(df['Country'])\n",
    "df['DevType'] = devtype_encoder.fit_transform(df['DevType'])\n",
    "\n",
    "# Display the first few rows of the modified DataFrame\n",
    "print(df.head())"
   ]
  },
  {
   "cell_type": "code",
   "execution_count": 36,
   "metadata": {},
   "outputs": [
    {
     "name": "stdout",
     "output_type": "stream",
     "text": [
      "Number of samples in the original dataset: 30922\n",
      "Number of samples in the training set: 24737\n",
      "Number of samples in the testing set: 6185\n"
     ]
    }
   ],
   "source": [
    "from sklearn.model_selection import train_test_split\n",
    "\n",
    "# Assuming 'target_column' is the column you are trying to predict\n",
    "X = df.drop('Salary', axis=1)\n",
    "y = df['Salary']\n",
    "\n",
    "# Split the data into training and testing sets\n",
    "X_train, X_test, y_train, y_test = train_test_split(X, y, test_size=0.2, random_state=42)\n",
    "\n",
    "# Verify the lengths of the datasets\n",
    "print(f\"Number of samples in the original dataset: {len(df)}\")\n",
    "print(f\"Number of samples in the training set: {len(X_train)}\")\n",
    "print(f\"Number of samples in the testing set: {len(X_test)}\")"
   ]
  },
  {
   "cell_type": "code",
   "execution_count": 38,
   "metadata": {},
   "outputs": [
    {
     "name": "stdout",
     "output_type": "stream",
     "text": [
      "Mean Squared Error (Random Forest): 428446275806.02637\n"
     ]
    }
   ],
   "source": [
    "from sklearn.ensemble import RandomForestRegressor\n",
    "\n",
    "# Create a RandomForestRegressor model\n",
    "model_rf = RandomForestRegressor(random_state=42)\n",
    "\n",
    "# Fit the model\n",
    "model_rf.fit(X_train, y_train)\n",
    "\n",
    "# Make predictions\n",
    "y_pred_rf = model_rf.predict(X_test)\n",
    "\n",
    "# Calculate MSE\n",
    "mse_rf = mean_squared_error(y_test, y_pred_rf)\n",
    "print(f'Mean Squared Error (Random Forest): {mse_rf}')"
   ]
  },
  {
   "cell_type": "code",
   "execution_count": 40,
   "metadata": {},
   "outputs": [
    {
     "data": {
      "text/plain": [
       "GridSearchCV(estimator=RandomForestRegressor(random_state=42),\n",
       "             param_grid={'max_depth': [6, 8, 10, 12],\n",
       "                         'n_estimators': [50, 100, 200, 300, 500]},\n",
       "             scoring='neg_mean_squared_error')"
      ]
     },
     "execution_count": 40,
     "metadata": {},
     "output_type": "execute_result"
    }
   ],
   "source": [
    "from sklearn.model_selection import GridSearchCV\n",
    "\n",
    "max_depth = [6,8,10,12]\n",
    "n_estimatorsint=[50,100,200,300,500]\n",
    "parameters = {\"max_depth\": max_depth, \"n_estimators\": n_estimatorsint}\n",
    "\n",
    "random_forest_reg = RandomForestRegressor(random_state=42)\n",
    "\n",
    "gs = GridSearchCV(random_forest_reg, parameters, scoring='neg_mean_squared_error')\n",
    "gs.fit(X_train, y_train)"
   ]
  },
  {
   "cell_type": "code",
   "execution_count": 41,
   "metadata": {},
   "outputs": [
    {
     "name": "stdout",
     "output_type": "stream",
     "text": [
      "$569,040.88\n",
      "R2 Score: 0.02\n"
     ]
    }
   ],
   "source": [
    "import numpy as np\n",
    "from sklearn.metrics import r2_score\n",
    "\n",
    "random_forest_reg = gs.best_estimator_\n",
    "\n",
    "random_forest_reg.fit(X_train, y_train)\n",
    "y_pred_test = random_forest_reg.predict(X_test)\n",
    "error = np.sqrt(mean_squared_error(y_test, y_pred_test))\n",
    "print(\"${:,.02f}\".format(error))\n",
    "\n",
    "# Assuming y_test and y_pred_test are your true and predicted values\n",
    "r2 = r2_score(y_test, y_pred_test)\n",
    "\n",
    "print(\"R2 Score: {:.2f}\".format(r2))"
   ]
  },
  {
   "cell_type": "markdown",
   "metadata": {},
   "source": [
    "As we can see, the model is consdierably worse than the previous one. However, since this is a visual analytics project and not a machine learning project, no model optimization will be considered. Only the data processing, the data analyhsis and data visualization is relevant here, which has been performed in order to implement this model. Moreover, it is undeniable that a predictive model with an error like this could not be used in a realistic application, however, since this is a visual analytics project, I will provide the feauture in a extra page, warning the users about its lack of reliability.\n",
    "\n",
    "Therefore, I included this prediction model as an extra page to enhance the xomplexity and completeness of the webapp, but I included a note warning about the lack of accuracy. Thus, the complete visualizations about the predictions appear only on the accurate model, and the complex one has only the predicted value. What might be considered about this model is not its accuracy but the data processing process and the webapp linkage process with the data. In further extensions or in machine learning projects, the model should and must be optimized before using it in the app, but since it is not the case I have decided to use it anyway with the corresponding disclaimer. It can be consdiered as an extra part, since the webapp was already complete and complex enough to satisfy all the requirementes and more than what was expected, but i this way the extra model is also visualized in the webapp."
   ]
  },
  {
   "cell_type": "code",
   "execution_count": 42,
   "metadata": {},
   "outputs": [],
   "source": [
    "\n",
    "import pickle"
   ]
  },
  {
   "cell_type": "code",
   "execution_count": 43,
   "metadata": {},
   "outputs": [],
   "source": [
    "data = {\"model\": random_forest_reg, \"le_country\": country_encoder, \"le_education\": ed_level_encoder, \"le_devtype\": devtype_encoder}\n",
    "with open('saved_steps2.pkl', 'wb') as file:\n",
    "    pickle.dump(data, file)"
   ]
  }
 ],
 "metadata": {
  "kernelspec": {
   "display_name": "Python 3",
   "language": "python",
   "name": "python3"
  },
  "language_info": {
   "codemirror_mode": {
    "name": "ipython",
    "version": 3
   },
   "file_extension": ".py",
   "mimetype": "text/x-python",
   "name": "python",
   "nbconvert_exporter": "python",
   "pygments_lexer": "ipython3",
   "version": "3.8.8"
  },
  "toc": {
   "base_numbering": 1,
   "nav_menu": {},
   "number_sections": true,
   "sideBar": true,
   "skip_h1_title": false,
   "title_cell": "Table of Contents",
   "title_sidebar": "Contents",
   "toc_cell": false,
   "toc_position": {},
   "toc_section_display": true,
   "toc_window_display": false
  },
  "varInspector": {
   "cols": {
    "lenName": 16,
    "lenType": 16,
    "lenVar": 40
   },
   "kernels_config": {
    "python": {
     "delete_cmd_postfix": "",
     "delete_cmd_prefix": "del ",
     "library": "var_list.py",
     "varRefreshCmd": "print(var_dic_list())"
    },
    "r": {
     "delete_cmd_postfix": ") ",
     "delete_cmd_prefix": "rm(",
     "library": "var_list.r",
     "varRefreshCmd": "cat(var_dic_list()) "
    }
   },
   "types_to_exclude": [
    "module",
    "function",
    "builtin_function_or_method",
    "instance",
    "_Feature"
   ],
   "window_display": false
  },
  "vscode": {
   "interpreter": {
    "hash": "4818c6f0c49d660f7c9f449f0ea60256f818e520177a00aca6329f67284c93ff"
   }
  }
 },
 "nbformat": 4,
 "nbformat_minor": 5
}
